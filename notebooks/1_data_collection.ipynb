{
 "cells": [
  {
   "cell_type": "markdown",
   "metadata": {},
   "source": [
    "# 1). Data Collection\n",
    "\n",
    "> Note: Do not run this document. Personal information has been removed from the second cell, but the framework has been retained to show how the data was obtained."
   ]
  },
  {
   "cell_type": "markdown",
   "metadata": {},
   "source": [
    "#### Imports\n",
    "\n",
    "I used the Python Reddit API Wrapper (PRAW) to collect my data."
   ]
  },
  {
   "cell_type": "code",
   "execution_count": 1,
   "metadata": {},
   "outputs": [],
   "source": [
    "import praw\n",
    "import pandas as pd"
   ]
  },
  {
   "cell_type": "markdown",
   "metadata": {},
   "source": [
    "#### Obtaining the Data"
   ]
  },
  {
   "cell_type": "code",
   "execution_count": 2,
   "metadata": {},
   "outputs": [],
   "source": [
    "reddit = praw.Reddit(client_id = '',     #this is that personal use script key\n",
    "                     client_secret = '', #this is that secret key\n",
    "                     user_agent = '',    #Whatever name you gave your application\n",
    "                     username = '',      #your Reddit user name\n",
    "                     password = '')      #your Reddit password"
   ]
  },
  {
   "cell_type": "code",
   "execution_count": 3,
   "metadata": {},
   "outputs": [],
   "source": [
    "# Create variable for the first subreddit to be used for analysis\n",
    "subreddit = reddit.subreddit('AskMen')\n",
    "subreddit_new = subreddit.new(limit = 2000)\n",
    "\n",
    "topics_dict = { \"title\":[],\n",
    "                \"score\":[],\n",
    "                \"id\":[],\n",
    "                \"url\":[], \n",
    "                \"comms_num\": [],\n",
    "                \"created\": [],\n",
    "                \"body\":[],}\n",
    "\n",
    "#Use a for loop to take the posts gathered by the wrapper and place them into a dictionary.\n",
    "\n",
    "for item in subreddit_new:\n",
    "    topics_dict[\"title\"].append(item.title)\n",
    "    topics_dict[\"score\"].append(item.score)\n",
    "    topics_dict[\"id\"].append(item.id)\n",
    "    topics_dict[\"url\"].append(item.url)\n",
    "    topics_dict[\"comms_num\"].append(item.num_comments)\n",
    "    topics_dict[\"created\"].append(item.created)\n",
    "    topics_dict[\"body\"].append(item.selftext)"
   ]
  },
  {
   "cell_type": "code",
   "execution_count": 9,
   "metadata": {},
   "outputs": [],
   "source": [
    "# Create dataframe of results for AskMen\n",
    "df = pd.DataFrame(topics_dict)"
   ]
  },
  {
   "cell_type": "code",
   "execution_count": 10,
   "metadata": {},
   "outputs": [],
   "source": [
    "# Save dataframe to csv for EDA\n",
    "df.to_csv('./data/askmen.csv', index = False)"
   ]
  },
  {
   "cell_type": "code",
   "execution_count": 11,
   "metadata": {},
   "outputs": [],
   "source": [
    "# Create new column to identify the subreddit; AskMen will have a value of 0\n",
    "df['subreddit'] = 0"
   ]
  },
  {
   "cell_type": "code",
   "execution_count": 4,
   "metadata": {},
   "outputs": [],
   "source": [
    "# Create variable for the second subreddit to be used for analysis\n",
    "altsubreddit = reddit.subreddit('AskWomen')\n",
    "subreddit_new_2 = altsubreddit.new(limit = 2000)\n",
    "\n",
    "topics_dict2 = { \"title\":[],\n",
    "                \"score\":[],\n",
    "                \"id\":[],\n",
    "                \"url\":[], \n",
    "                \"comms_num\": [],\n",
    "                \"created\": [],\n",
    "                \"body\":[]}\n",
    "\n",
    "#Use a for loop to take the posts gathered by the wrapper and place them into a dictionary.\n",
    "\n",
    "for item in subreddit_new_2:\n",
    "    topics_dict2[\"title\"].append(item.title)\n",
    "    topics_dict2[\"score\"].append(item.score)\n",
    "    topics_dict2[\"id\"].append(item.id)\n",
    "    topics_dict2[\"url\"].append(item.url)\n",
    "    topics_dict2[\"comms_num\"].append(item.num_comments)\n",
    "    topics_dict2[\"created\"].append(item.created)\n",
    "    topics_dict2[\"body\"].append(item.selftext)"
   ]
  },
  {
   "cell_type": "code",
   "execution_count": 12,
   "metadata": {},
   "outputs": [],
   "source": [
    "# Create dataframe of results for AskMen\n",
    "df2 = pd.DataFrame(topics_dict2)"
   ]
  },
  {
   "cell_type": "code",
   "execution_count": 13,
   "metadata": {},
   "outputs": [],
   "source": [
    "# Save dataframe to csv for EDA\n",
    "df2.to_csv('./data/askwomen.csv', index = False)"
   ]
  },
  {
   "cell_type": "code",
   "execution_count": 14,
   "metadata": {},
   "outputs": [],
   "source": [
    "# Create new column to identify the subreddit; AskMen will have a value of 1\n",
    "df2['subreddit'] = 1"
   ]
  },
  {
   "cell_type": "code",
   "execution_count": 15,
   "metadata": {},
   "outputs": [],
   "source": [
    "# Concatenate dataframes to create the final dataframe that I will use for modeling\n",
    "finaldf = pd.concat([df, df2])"
   ]
  },
  {
   "cell_type": "code",
   "execution_count": 18,
   "metadata": {},
   "outputs": [],
   "source": [
    "# Save dataframe for future use\n",
    "finaldf.to_csv('./data/AskMen_AskWomen.csv', index = False)"
   ]
  },
  {
   "cell_type": "markdown",
   "metadata": {},
   "source": [
    "# Continue to document 2). EDA"
   ]
  }
 ],
 "metadata": {
  "kernelspec": {
   "display_name": "Python 3",
   "language": "python",
   "name": "python3"
  },
  "language_info": {
   "codemirror_mode": {
    "name": "ipython",
    "version": 3
   },
   "file_extension": ".py",
   "mimetype": "text/x-python",
   "name": "python",
   "nbconvert_exporter": "python",
   "pygments_lexer": "ipython3",
   "version": "3.7.6"
  }
 },
 "nbformat": 4,
 "nbformat_minor": 4
}
